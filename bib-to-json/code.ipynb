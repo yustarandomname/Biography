{
 "cells": [
  {
   "cell_type": "code",
   "execution_count": null,
   "metadata": {},
   "outputs": [],
   "source": [
    "! pip3 install bibtexparser"
   ]
  },
  {
   "cell_type": "code",
   "execution_count": null,
   "metadata": {},
   "outputs": [],
   "source": [
    "import bibtexparser\n",
    "import json"
   ]
  },
  {
   "cell_type": "code",
   "execution_count": null,
   "metadata": {},
   "outputs": [],
   "source": [
    "# ENV\n",
    "BIB_FILE = './Bibliography.bib'\n",
    "JSON_FILE = '../src/bib/Bibliography.json'\n",
    "\n",
    "INCLUDE_BIBTEX = False"
   ]
  },
  {
   "cell_type": "code",
   "execution_count": null,
   "metadata": {},
   "outputs": [],
   "source": [
    "# load the BibTeX file\n",
    "with open(BIB_FILE, \"r\") as bibtex_input:\n",
    "    bib_database = bibtexparser.load(bibtex_input)\n",
    "\n",
    "\n",
    "# function to convert a JSON entry back to BibTeX format\n",
    "def json_to_bibtex(entry):\n",
    "    bibtex = f\"@{entry['ENTRYTYPE']}{{{entry['ID']},\\n\"\n",
    "    for key, value in entry.items():\n",
    "        if key not in [\"ENTRYTYPE\", \"ID\"]:\n",
    "            bibtex += f\"    {key} = {{{value}}},\\n\"\n",
    "    bibtex = bibtex.rstrip(\",\\n\") + \"\\n}\\n\\n\"\n",
    "    return bibtex\n",
    "\n",
    "\n",
    "# add BibTeX field to each JSON entry if requested\n",
    "if INCLUDE_BIBTEX:\n",
    "    for entry in bib_database.entries:\n",
    "        entry[\"bibtex\"] = json_to_bibtex(entry)\n",
    "\n",
    "\n",
    "def toDict(entries):\n",
    "    dictinary = {}\n",
    "    for entry in entries:\n",
    "\n",
    "        if \"author\" in entry:\n",
    "            entry[\"authors\"] = entry[\"author\"].split(\" and \")\n",
    "\n",
    "\n",
    "        dictinary[entry['ID']] = entry\n",
    "    return dictinary\n",
    "\n",
    "# write the JSON file\n",
    "with open(JSON_FILE, \"w\") as json_file:\n",
    "    dictinary = toDict(bib_database.entries)\n",
    "\n",
    "    json.dump(dictinary, json_file, indent=4)\n",
    "\n",
    "print(\n",
    "    f\"\"\"\n",
    "    The BibTeX input file '{BIB_FILE}'\n",
    "    has been converted to '{JSON_FILE}'\n",
    "    \"\"\"\n",
    ")"
   ]
  }
 ],
 "metadata": {
  "kernelspec": {
   "display_name": "Python 3",
   "language": "python",
   "name": "python3"
  },
  "language_info": {
   "codemirror_mode": {
    "name": "ipython",
    "version": 3
   },
   "file_extension": ".py",
   "mimetype": "text/x-python",
   "name": "python",
   "nbconvert_exporter": "python",
   "pygments_lexer": "ipython3",
   "version": "3.10.11"
  }
 },
 "nbformat": 4,
 "nbformat_minor": 2
}
